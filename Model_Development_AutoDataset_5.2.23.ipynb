{
 "cells": [
  {
   "cell_type": "markdown",
   "id": "62c3e2c7",
   "metadata": {},
   "source": [
    "<h1><b><center> Model Development</center></b></h1>"
   ]
  },
  {
   "cell_type": "code",
   "execution_count": 76,
   "id": "3fd2253a",
   "metadata": {},
   "outputs": [],
   "source": [
    "import pandas as pd\n",
    "import numpy as np\n",
    "import seaborn as sns\n",
    "import matplotlib.pyplot as mpl"
   ]
  },
  {
   "cell_type": "code",
   "execution_count": 77,
   "id": "6787cf56",
   "metadata": {},
   "outputs": [
    {
     "data": {
      "text/html": [
       "<div>\n",
       "<style scoped>\n",
       "    .dataframe tbody tr th:only-of-type {\n",
       "        vertical-align: middle;\n",
       "    }\n",
       "\n",
       "    .dataframe tbody tr th {\n",
       "        vertical-align: top;\n",
       "    }\n",
       "\n",
       "    .dataframe thead th {\n",
       "        text-align: right;\n",
       "    }\n",
       "</style>\n",
       "<table border=\"1\" class=\"dataframe\">\n",
       "  <thead>\n",
       "    <tr style=\"text-align: right;\">\n",
       "      <th></th>\n",
       "      <th>symboling</th>\n",
       "      <th>normalized-losses</th>\n",
       "      <th>make</th>\n",
       "      <th>fuel-type</th>\n",
       "      <th>aspiration</th>\n",
       "      <th>num-of-doors</th>\n",
       "      <th>body=style</th>\n",
       "      <th>drive-wheels</th>\n",
       "      <th>engine-location</th>\n",
       "      <th>wheel-base</th>\n",
       "      <th>...</th>\n",
       "      <th>stroke</th>\n",
       "      <th>compression-ratio</th>\n",
       "      <th>horsepower</th>\n",
       "      <th>peak-rpm</th>\n",
       "      <th>city-mpg</th>\n",
       "      <th>highway-mpg</th>\n",
       "      <th>price</th>\n",
       "      <th>city-L/100km</th>\n",
       "      <th>highway-L/100km</th>\n",
       "      <th>horsepower-binned</th>\n",
       "    </tr>\n",
       "  </thead>\n",
       "  <tbody>\n",
       "    <tr>\n",
       "      <th>0</th>\n",
       "      <td>3</td>\n",
       "      <td>122</td>\n",
       "      <td>alfa-romero</td>\n",
       "      <td>0</td>\n",
       "      <td>0</td>\n",
       "      <td>two</td>\n",
       "      <td>convertible</td>\n",
       "      <td>rwd</td>\n",
       "      <td>front</td>\n",
       "      <td>88.6</td>\n",
       "      <td>...</td>\n",
       "      <td>2.68</td>\n",
       "      <td>9.0</td>\n",
       "      <td>111</td>\n",
       "      <td>5000.0</td>\n",
       "      <td>21</td>\n",
       "      <td>27</td>\n",
       "      <td>13495.0</td>\n",
       "      <td>11.190476</td>\n",
       "      <td>8.703704</td>\n",
       "      <td>Low</td>\n",
       "    </tr>\n",
       "    <tr>\n",
       "      <th>1</th>\n",
       "      <td>3</td>\n",
       "      <td>122</td>\n",
       "      <td>alfa-romero</td>\n",
       "      <td>0</td>\n",
       "      <td>0</td>\n",
       "      <td>two</td>\n",
       "      <td>convertible</td>\n",
       "      <td>rwd</td>\n",
       "      <td>front</td>\n",
       "      <td>88.6</td>\n",
       "      <td>...</td>\n",
       "      <td>2.68</td>\n",
       "      <td>9.0</td>\n",
       "      <td>111</td>\n",
       "      <td>5000.0</td>\n",
       "      <td>21</td>\n",
       "      <td>27</td>\n",
       "      <td>16500.0</td>\n",
       "      <td>11.190476</td>\n",
       "      <td>8.703704</td>\n",
       "      <td>Low</td>\n",
       "    </tr>\n",
       "    <tr>\n",
       "      <th>2</th>\n",
       "      <td>1</td>\n",
       "      <td>122</td>\n",
       "      <td>alfa-romero</td>\n",
       "      <td>0</td>\n",
       "      <td>0</td>\n",
       "      <td>two</td>\n",
       "      <td>hatchback</td>\n",
       "      <td>rwd</td>\n",
       "      <td>front</td>\n",
       "      <td>94.5</td>\n",
       "      <td>...</td>\n",
       "      <td>3.47</td>\n",
       "      <td>9.0</td>\n",
       "      <td>154</td>\n",
       "      <td>5000.0</td>\n",
       "      <td>19</td>\n",
       "      <td>26</td>\n",
       "      <td>16500.0</td>\n",
       "      <td>12.368421</td>\n",
       "      <td>9.038462</td>\n",
       "      <td>Medium</td>\n",
       "    </tr>\n",
       "    <tr>\n",
       "      <th>3</th>\n",
       "      <td>2</td>\n",
       "      <td>164</td>\n",
       "      <td>audi</td>\n",
       "      <td>0</td>\n",
       "      <td>0</td>\n",
       "      <td>four</td>\n",
       "      <td>sedan</td>\n",
       "      <td>fwd</td>\n",
       "      <td>front</td>\n",
       "      <td>99.8</td>\n",
       "      <td>...</td>\n",
       "      <td>3.40</td>\n",
       "      <td>10.0</td>\n",
       "      <td>102</td>\n",
       "      <td>5500.0</td>\n",
       "      <td>24</td>\n",
       "      <td>30</td>\n",
       "      <td>13950.0</td>\n",
       "      <td>9.791667</td>\n",
       "      <td>7.833333</td>\n",
       "      <td>Low</td>\n",
       "    </tr>\n",
       "    <tr>\n",
       "      <th>4</th>\n",
       "      <td>2</td>\n",
       "      <td>164</td>\n",
       "      <td>audi</td>\n",
       "      <td>0</td>\n",
       "      <td>0</td>\n",
       "      <td>four</td>\n",
       "      <td>sedan</td>\n",
       "      <td>4wd</td>\n",
       "      <td>front</td>\n",
       "      <td>99.4</td>\n",
       "      <td>...</td>\n",
       "      <td>3.40</td>\n",
       "      <td>8.0</td>\n",
       "      <td>115</td>\n",
       "      <td>5500.0</td>\n",
       "      <td>18</td>\n",
       "      <td>22</td>\n",
       "      <td>17450.0</td>\n",
       "      <td>13.055556</td>\n",
       "      <td>10.681818</td>\n",
       "      <td>Low</td>\n",
       "    </tr>\n",
       "  </tbody>\n",
       "</table>\n",
       "<p>5 rows × 29 columns</p>\n",
       "</div>"
      ],
      "text/plain": [
       "   symboling  normalized-losses         make  fuel-type  aspiration  \\\n",
       "0          3                122  alfa-romero          0           0   \n",
       "1          3                122  alfa-romero          0           0   \n",
       "2          1                122  alfa-romero          0           0   \n",
       "3          2                164         audi          0           0   \n",
       "4          2                164         audi          0           0   \n",
       "\n",
       "  num-of-doors   body=style drive-wheels engine-location  wheel-base  ...  \\\n",
       "0          two  convertible          rwd           front        88.6  ...   \n",
       "1          two  convertible          rwd           front        88.6  ...   \n",
       "2          two    hatchback          rwd           front        94.5  ...   \n",
       "3         four        sedan          fwd           front        99.8  ...   \n",
       "4         four        sedan          4wd           front        99.4  ...   \n",
       "\n",
       "   stroke  compression-ratio  horsepower  peak-rpm city-mpg highway-mpg  \\\n",
       "0    2.68                9.0         111    5000.0       21          27   \n",
       "1    2.68                9.0         111    5000.0       21          27   \n",
       "2    3.47                9.0         154    5000.0       19          26   \n",
       "3    3.40               10.0         102    5500.0       24          30   \n",
       "4    3.40                8.0         115    5500.0       18          22   \n",
       "\n",
       "     price city-L/100km  highway-L/100km  horsepower-binned  \n",
       "0  13495.0    11.190476         8.703704                Low  \n",
       "1  16500.0    11.190476         8.703704                Low  \n",
       "2  16500.0    12.368421         9.038462             Medium  \n",
       "3  13950.0     9.791667         7.833333                Low  \n",
       "4  17450.0    13.055556        10.681818                Low  \n",
       "\n",
       "[5 rows x 29 columns]"
      ]
     },
     "execution_count": 77,
     "metadata": {},
     "output_type": "execute_result"
    }
   ],
   "source": [
    "df=pd.read_csv('autos_updated_4.13.23.csv', index_col=0)\n",
    "df.head()"
   ]
  },
  {
   "cell_type": "code",
   "execution_count": 78,
   "id": "6eed9958",
   "metadata": {},
   "outputs": [],
   "source": [
    "from sklearn.linear_model import LinearRegression"
   ]
  },
  {
   "cell_type": "markdown",
   "id": "541b2eae",
   "metadata": {},
   "source": [
    "## **Simple Linear Regression**"
   ]
  },
  {
   "cell_type": "code",
   "execution_count": 79,
   "id": "02469b7a",
   "metadata": {},
   "outputs": [
    {
     "data": {
      "text/plain": [
       "LinearRegression()"
      ]
     },
     "execution_count": 79,
     "metadata": {},
     "output_type": "execute_result"
    }
   ],
   "source": [
    "#create Linear Regression object using constructor\n",
    "lm=LinearRegression()\n",
    "\n",
    "X=df[['highway-mpg']] #Predictor variable\n",
    "Y=df[['price']] #Target variable\n",
    "\n",
    "lm.fit(X,Y) #Fit the model"
   ]
  },
  {
   "cell_type": "code",
   "execution_count": 80,
   "id": "c8b3243a",
   "metadata": {},
   "outputs": [
    {
     "data": {
      "text/plain": [
       "array([[16236.50464347],\n",
       "       [16236.50464347],\n",
       "       [17058.23802179],\n",
       "       [13771.3045085 ],\n",
       "       [20345.17153508]])"
      ]
     },
     "execution_count": 80,
     "metadata": {},
     "output_type": "execute_result"
    }
   ],
   "source": [
    "Yhat=lm.predict(X)\n",
    "Yhat[0:5]"
   ]
  },
  {
   "cell_type": "markdown",
   "id": "461e80a6",
   "metadata": {},
   "source": [
    "This outputs an array with the same number of samples as X"
   ]
  },
  {
   "cell_type": "code",
   "execution_count": 81,
   "id": "8425c979",
   "metadata": {},
   "outputs": [
    {
     "name": "stdout",
     "output_type": "stream",
     "text": [
      "The intercept is: 38423.305858157386 The slope is: -821.7333783219252\n"
     ]
    }
   ],
   "source": [
    "#View intercept and slope\n",
    "intercept=lm.intercept_\n",
    "slope=lm.coef_\n",
    "print('The intercept is:', float(intercept), 'The slope is:', float(slope) )\n"
   ]
  },
  {
   "cell_type": "markdown",
   "id": "6af9dc82",
   "metadata": {},
   "source": [
    "**What is the equation of the predicted line?**"
   ]
  },
  {
   "cell_type": "markdown",
   "id": "c9c2e492",
   "metadata": {},
   "source": [
    "Price= 38423.31-821.73 * highway-mpg"
   ]
  },
  {
   "cell_type": "markdown",
   "id": "975ce33e",
   "metadata": {},
   "source": [
    "## **Regression Plots**"
   ]
  },
  {
   "cell_type": "code",
   "execution_count": 120,
   "id": "3d5d9b9d",
   "metadata": {},
   "outputs": [
    {
     "data": {
      "text/plain": [
       "(0.0, 48169.05265173428)"
      ]
     },
     "execution_count": 120,
     "metadata": {},
     "output_type": "execute_result"
    },
    {
     "data": {
      "image/png": "[encoded data removed]",
      "text/plain": [
       "<Figure size 640x480 with 1 Axes>"
      ]
     },
     "metadata": {},
     "output_type": "display_data"
    }
   ],
   "source": [
    "sns.regplot(x='highway-mpg', y='price', data=df)\n",
    "mpl.ylim(0,) #Sets bottom of y-axis to 0"
   ]
  },
  {
   "cell_type": "markdown",
   "id": "13fa2e06",
   "metadata": {},
   "source": [
    "**Run a correlation analysis to quantify results**"
   ]
  },
  {
   "cell_type": "code",
   "execution_count": 104,
   "id": "89f74314",
   "metadata": {
    "scrolled": true
   },
   "outputs": [
    {
     "data": {
      "text/html": [
       "<div>\n",
       "<style scoped>\n",
       "    .dataframe tbody tr th:only-of-type {\n",
       "        vertical-align: middle;\n",
       "    }\n",
       "\n",
       "    .dataframe tbody tr th {\n",
       "        vertical-align: top;\n",
       "    }\n",
       "\n",
       "    .dataframe thead th {\n",
       "        text-align: right;\n",
       "    }\n",
       "</style>\n",
       "<table border=\"1\" class=\"dataframe\">\n",
       "  <thead>\n",
       "    <tr style=\"text-align: right;\">\n",
       "      <th></th>\n",
       "      <th>highway-mpg</th>\n",
       "      <th>price</th>\n",
       "    </tr>\n",
       "  </thead>\n",
       "  <tbody>\n",
       "    <tr>\n",
       "      <th>highway-mpg</th>\n",
       "      <td>1.000000</td>\n",
       "      <td>-0.704692</td>\n",
       "    </tr>\n",
       "    <tr>\n",
       "      <th>price</th>\n",
       "      <td>-0.704692</td>\n",
       "      <td>1.000000</td>\n",
       "    </tr>\n",
       "  </tbody>\n",
       "</table>\n",
       "</div>"
      ],
      "text/plain": [
       "             highway-mpg     price\n",
       "highway-mpg     1.000000 -0.704692\n",
       "price          -0.704692  1.000000"
      ]
     },
     "execution_count": 104,
     "metadata": {},
     "output_type": "execute_result"
    }
   ],
   "source": [
    "df[['highway-mpg', 'price']].corr()"
   ]
  },
  {
   "cell_type": "markdown",
   "id": "cbe2b68b",
   "metadata": {},
   "source": [
    "## **Residual Plots**\n",
    "\n",
    "Shows the residuals (errors) in a linear regression model."
   ]
  },
  {
   "cell_type": "code",
   "execution_count": 87,
   "id": "45c9d006",
   "metadata": {
    "scrolled": false
   },
   "outputs": [
    {
     "data": {
      "text/plain": [
       "<AxesSubplot:xlabel='highway-mpg', ylabel='price'>"
      ]
     },
     "execution_count": 87,
     "metadata": {},
     "output_type": "execute_result"
    },
    {
     "data": {
      "image/png": "[encoded data removed]",
      "text/plain": [
       "<Figure size 640x480 with 1 Axes>"
      ]
     },
     "metadata": {},
     "output_type": "display_data"
    }
   ],
   "source": [
    "sns.residplot(x=df['highway-mpg'], y=df['price'])"
   ]
  },
  {
   "cell_type": "markdown",
   "id": "e992090c",
   "metadata": {},
   "source": [
    "**Is this an appropriate fit for our data?**\n",
    "\n",
    "Probably not! We can see that the data is biased (forming a curve) and the residuals are not randomly spread around the x-axis, therefore a nonlinear model may be better for this dataset."
   ]
  },
  {
   "cell_type": "markdown",
   "id": "76886d67",
   "metadata": {},
   "source": [
    "## **Multiple Linear Regression**"
   ]
  },
  {
   "cell_type": "code",
   "execution_count": 82,
   "id": "a84d9108",
   "metadata": {},
   "outputs": [],
   "source": [
    "Z=df[['horsepower', 'curb-weight', 'engine-size', 'highway-mpg']]"
   ]
  },
  {
   "cell_type": "code",
   "execution_count": 105,
   "id": "c695d576",
   "metadata": {},
   "outputs": [
    {
     "data": {
      "text/plain": [
       "array([13698.95609311, 13698.95609311, 19056.78572196, 10621.59764327,\n",
       "       15519.32197778])"
      ]
     },
     "execution_count": 105,
     "metadata": {},
     "output_type": "execute_result"
    }
   ],
   "source": [
    "lm.fit(Z, df['price'])\n",
    "Yhat2=lm.predict(Z)\n",
    "Yhat2[0:5]"
   ]
  },
  {
   "cell_type": "code",
   "execution_count": 106,
   "id": "52d3055f",
   "metadata": {},
   "outputs": [
    {
     "data": {
      "text/plain": [
       "-15831.930960299469"
      ]
     },
     "execution_count": 106,
     "metadata": {},
     "output_type": "execute_result"
    }
   ],
   "source": [
    "#Find the intercept\n",
    "lm.intercept_"
   ]
  },
  {
   "cell_type": "code",
   "execution_count": 107,
   "id": "355b938d",
   "metadata": {},
   "outputs": [
    {
     "data": {
      "text/plain": [
       "array([53.66247317,  4.70938694, 81.44600167, 36.55016267])"
      ]
     },
     "execution_count": 107,
     "metadata": {},
     "output_type": "execute_result"
    }
   ],
   "source": [
    "#Find the coefficients\n",
    "lm.coef_"
   ]
  },
  {
   "cell_type": "markdown",
   "id": "15226c76",
   "metadata": {},
   "source": [
    "The Linear Function is:\n",
    "<p>Price = -15831.93 + 53.66 x horsepower + 4.71 x curb-weight + 81.45 x engine-size + 36.55 x highway-mpg</p>"
   ]
  },
  {
   "cell_type": "markdown",
   "id": "c19a7191",
   "metadata": {},
   "source": [
    "## **Distribution Plots**\n",
    "\n",
    "Shows how the observed values differs from the point of best fit."
   ]
  },
  {
   "cell_type": "code",
   "execution_count": 108,
   "id": "9b27f40c",
   "metadata": {
    "scrolled": true
   },
   "outputs": [
    {
     "name": "stderr",
     "output_type": "stream",
     "text": [
      "C:\\Users\\JoeDe\\Anaconda\\lib\\site-packages\\seaborn\\distributions.py:2619: FutureWarning: `distplot` is a deprecated function and will be removed in a future version. Please adapt your code to use either `displot` (a figure-level function with similar flexibility) or `kdeplot` (an axes-level function for kernel density plots).\n",
      "  warnings.warn(msg, FutureWarning)\n",
      "C:\\Users\\JoeDe\\Anaconda\\lib\\site-packages\\seaborn\\distributions.py:2619: FutureWarning: `distplot` is a deprecated function and will be removed in a future version. Please adapt your code to use either `displot` (a figure-level function with similar flexibility) or `kdeplot` (an axes-level function for kernel density plots).\n",
      "  warnings.warn(msg, FutureWarning)\n"
     ]
    },
    {
     "data": {
      "text/plain": [
       "<matplotlib.legend.Legend at 0x2234c702730>"
      ]
     },
     "execution_count": 108,
     "metadata": {},
     "output_type": "execute_result"
    },
    {
     "data": {
      "image/png": "[encoded data removed]",
      "text/plain": [
       "<Figure size 640x480 with 1 Axes>"
      ]
     },
     "metadata": {},
     "output_type": "display_data"
    }
   ],
   "source": [
    "\n",
    "ax1=sns.distplot(df['price'], hist=False, color='r', label=\"Actual Values\")\n",
    "sns.distplot(Yhat2, hist=False, color='b', label=\"Fitted Values\", ax=ax1)\n",
    "\n",
    "mpl.title('Actual vs. Fitted Values for Price')\n",
    "mpl.xlabel('Price ($)')\n",
    "mpl.ylabel('Proportion of Cars')\n",
    "\n",
    "mpl.legend()"
   ]
  },
  {
   "cell_type": "markdown",
   "id": "389456ea",
   "metadata": {},
   "source": [
    "It does appear that in our model for multiple linear regression (using the predictor variables:horsepower, curb-weight, engine-size and highway-mpg) has fitted values fairly close to the actual values."
   ]
  },
  {
   "cell_type": "code",
   "execution_count": 109,
   "id": "400ece7c",
   "metadata": {
    "scrolled": true
   },
   "outputs": [
    {
     "data": {
      "text/plain": [
       "<matplotlib.legend.Legend at 0x2234c718640>"
      ]
     },
     "execution_count": 109,
     "metadata": {},
     "output_type": "execute_result"
    },
    {
     "data": {
      "image/png": "[encoded data removed]",
      "text/plain": [
       "<Figure size 640x480 with 1 Axes>"
      ]
     },
     "metadata": {},
     "output_type": "display_data"
    }
   ],
   "source": [
    "#Another example using kdeplot instead of distplot\n",
    "\n",
    "sns.kdeplot(df['price'], color='r', shade=True, label='Actual Values')\n",
    "  \n",
    "sns.kdeplot(Yhat2, color='b', shade=True, label='Fitted Values')\n",
    "  \n",
    "mpl.xlabel('Price($)')\n",
    "mpl.ylabel('Proportion of Cars')\n",
    "mpl.legend()\n"
   ]
  },
  {
   "cell_type": "markdown",
   "id": "f95f4049",
   "metadata": {},
   "source": [
    "Here we can see the overlap between the actual and fitted values (in purple) and visualize how close the fitted values are to the actual values from the dataset."
   ]
  },
  {
   "cell_type": "markdown",
   "id": "3ec0093e",
   "metadata": {},
   "source": [
    "<h1><b>Polynomial Regression</h1></b>"
   ]
  },
  {
   "cell_type": "code",
   "execution_count": 110,
   "id": "d6c2d601",
   "metadata": {},
   "outputs": [],
   "source": [
    "def PlotPoly(model, IV, DV, name):\n",
    "    new_x=np.linspace(15,55,100)\n",
    "    new_y=model(new_x)\n",
    "    mpl.plot(IV, DV, '.', new_x, new_y, '-')\n",
    "    mpl.title('Polynomial Fit with Matplotlib for Price ~ Length')\n",
    "    ax = mpl.gca() #Get current axes\n",
    "    ax.set_facecolor((0.898, 0.898, 0.898))\n",
    "    fig = mpl.gcf() #Get current figure\n",
    "    mpl.xlabel(name)\n",
    "    mpl.ylabel('Price of Cars')\n",
    "\n",
    "    mpl.show()\n",
    "    mpl.close()"
   ]
  },
  {
   "cell_type": "code",
   "execution_count": 114,
   "id": "50936219",
   "metadata": {},
   "outputs": [
    {
     "name": "stdout",
     "output_type": "stream",
     "text": [
      "        3         2\n",
      "-1.557 x + 204.8 x - 8965 x + 1.379e+05\n"
     ]
    }
   ],
   "source": [
    "#Fit the polynomial\n",
    "f=np.polyfit(df['highway-mpg'], df['price'], 3) #Cubic polynomial (3rd order)\n",
    "\n",
    "#Display the polynomial function\n",
    "p=np.poly1d(f)\n",
    "print(p)"
   ]
  },
  {
   "cell_type": "code",
   "execution_count": 115,
   "id": "538752d9",
   "metadata": {},
   "outputs": [
    {
     "data": {
      "image/png": "[encoded data removed]",
      "text/plain": [
       "<Figure size 640x480 with 1 Axes>"
      ]
     },
     "metadata": {},
     "output_type": "display_data"
    }
   ],
   "source": [
    "PlotPoly(p, df['highway-mpg'], df['price'], 'Highway-MPG')"
   ]
  },
  {
   "cell_type": "markdown",
   "id": "8c4baf4e",
   "metadata": {},
   "source": [
    "Now we can see that this polynomial model has better performance compared to the linear model"
   ]
  },
  {
   "cell_type": "code",
   "execution_count": 126,
   "id": "154f47a9",
   "metadata": {},
   "outputs": [],
   "source": [
    "from sklearn.preprocessing import PolynomialFeatures"
   ]
  },
  {
   "cell_type": "markdown",
   "id": "5af4cfba",
   "metadata": {},
   "source": [
    "Now lets perform a polynomial transformation on multiple features!"
   ]
  },
  {
   "cell_type": "code",
   "execution_count": 121,
   "id": "d3383546",
   "metadata": {},
   "outputs": [
    {
     "data": {
      "text/plain": [
       "PolynomialFeatures()"
      ]
     },
     "execution_count": 121,
     "metadata": {},
     "output_type": "execute_result"
    }
   ],
   "source": [
    "pr=PolynomialFeatures(degree=2) #Create PolynomialFeatures object\n",
    "pr"
   ]
  },
  {
   "cell_type": "code",
   "execution_count": 122,
   "id": "2f7ebbbc",
   "metadata": {},
   "outputs": [],
   "source": [
    "Z_pr=pr.fit_transform(Z)"
   ]
  },
  {
   "cell_type": "code",
   "execution_count": 124,
   "id": "8dbd053d",
   "metadata": {
    "scrolled": true
   },
   "outputs": [
    {
     "data": {
      "text/plain": [
       "(201, 4)"
      ]
     },
     "execution_count": 124,
     "metadata": {},
     "output_type": "execute_result"
    }
   ],
   "source": [
    "Z.shape #Original Data"
   ]
  },
  {
   "cell_type": "code",
   "execution_count": 125,
   "id": "b2213803",
   "metadata": {},
   "outputs": [
    {
     "data": {
      "text/plain": [
       "(201, 15)"
      ]
     },
     "execution_count": 125,
     "metadata": {},
     "output_type": "execute_result"
    }
   ],
   "source": [
    "Z_pr.shape #Transformed Data"
   ]
  },
  {
   "cell_type": "markdown",
   "id": "4608d51b",
   "metadata": {},
   "source": [
    "<h1><b>Data Pipelines</h1></b>\n",
    "<p> Simplify data processing! </p>"
   ]
  },
  {
   "cell_type": "code",
   "execution_count": 127,
   "id": "bdde8563",
   "metadata": {},
   "outputs": [],
   "source": [
    "from sklearn.preprocessing import StandardScaler\n",
    "from sklearn.pipeline import Pipeline\n",
    "\n",
    "\n",
    "#Create list of tuples to create Pipeline\n",
    "Input=[('scale', StandardScaler()), ('polynomial', PolynomialFeatures(degree=2)), ('mode', LinearRegression())]\n"
   ]
  },
  {
   "cell_type": "code",
   "execution_count": 129,
   "id": "b389b320",
   "metadata": {
    "scrolled": true
   },
   "outputs": [
    {
     "data": {
      "text/plain": [
       "Pipeline(steps=[('scale', StandardScaler()),\n",
       "                ('polynomial', PolynomialFeatures()),\n",
       "                ('mode', LinearRegression())])"
      ]
     },
     "execution_count": 129,
     "metadata": {},
     "output_type": "execute_result"
    }
   ],
   "source": [
    "pipe=Pipeline(Input) #Input the list as an argument to the pipeline constructor\n",
    "pipe"
   ]
  },
  {
   "cell_type": "code",
   "execution_count": null,
   "id": "fc450fda",
   "metadata": {},
   "outputs": [],
   "source": [
    "#Convert data type Z to float\n",
    "Z=Z.astype(float)"
   ]
  },
  {
   "cell_type": "code",
   "execution_count": 132,
   "id": "0507ca03",
   "metadata": {
    "scrolled": true
   },
   "outputs": [
    {
     "data": {
      "text/plain": [
       "Pipeline(steps=[('scale', StandardScaler()),\n",
       "                ('polynomial', PolynomialFeatures()),\n",
       "                ('mode', LinearRegression())])"
      ]
     },
     "execution_count": 132,
     "metadata": {},
     "output_type": "execute_result"
    }
   ],
   "source": [
    "#Train the pipeline object\n",
    "pipe.fit(Z, df['price'])"
   ]
  },
  {
   "cell_type": "code",
   "execution_count": 154,
   "id": "22ba7fad",
   "metadata": {},
   "outputs": [
    {
     "data": {
      "text/plain": [
       "array([13698.95609311, 13698.95609311, 19056.78572196, 10621.59764327,\n",
       "       15519.32197778])"
      ]
     },
     "execution_count": 154,
     "metadata": {},
     "output_type": "execute_result"
    }
   ],
   "source": [
    "ypipe=pipe.predict(Z)\n",
    "ypipe[0:5]              "
   ]
  },
  {
   "cell_type": "markdown",
   "id": "1d2fe8f7",
   "metadata": {},
   "source": [
    "<h2><b> Example for Pipelines: </h2></b>\n",
    "<p><b> Create a pipeline that standardizes the data, then produce a prediction using a linear regression model using the features Z and target y. </p></b>"
   ]
  },
  {
   "cell_type": "code",
   "execution_count": 136,
   "id": "6bc34f20",
   "metadata": {},
   "outputs": [
    {
     "data": {
      "text/plain": [
       "array([13698.95609311, 13698.95609311, 19056.78572196, 10621.59764327,\n",
       "       15519.32197778])"
      ]
     },
     "execution_count": 136,
     "metadata": {},
     "output_type": "execute_result"
    }
   ],
   "source": [
    "Input=[('scale',StandardScaler()),('model',LinearRegression())]\n",
    "\n",
    "pipe=Pipeline(Input)\n",
    "\n",
    "pipe.fit(Z,df['price'])\n",
    "\n",
    "ypipe=pipe.predict(Z)\n",
    "ypipe[0:5]"
   ]
  },
  {
   "cell_type": "markdown",
   "id": "a67013c1",
   "metadata": {},
   "source": [
    "<h1><b> In-Sample Evaluation </h1></b>\n",
    "<p> The numerical determination of how well the model fits the dataset. </p>\n",
    "<p>Model accuracy is determined by: \n",
    "    <li>-R-squared(Coefficient of Determination)</li>\n",
    "    <li>-Mean standard error (MSE)</li> </p>\n",
    " \n",
    "<h2><b> Model 1: Simple Linear Regression </h2></b>"
   ]
  },
  {
   "cell_type": "code",
   "execution_count": 137,
   "id": "d3452c7c",
   "metadata": {
    "scrolled": false
   },
   "outputs": [
    {
     "name": "stdout",
     "output_type": "stream",
     "text": [
      "The R-squared is: 0.4965911884339175\n"
     ]
    }
   ],
   "source": [
    "#Find the R-squared of highway-mpg and price\n",
    "lm.fit(X,Y)\n",
    "R_sq=lm.score(X,Y)\n",
    "print('The R-squared is:', R_sq)"
   ]
  },
  {
   "cell_type": "markdown",
   "id": "e826a11e",
   "metadata": {},
   "source": [
    "This means that 49.66% of the variation of price is explained by this simple linear model (using highway-mpg)."
   ]
  },
  {
   "cell_type": "code",
   "execution_count": 147,
   "id": "083f5f5e",
   "metadata": {
    "scrolled": true
   },
   "outputs": [
    {
     "name": "stdout",
     "output_type": "stream",
     "text": [
      "The first 4 predicted values are: [[16236.50464347]\n",
      " [16236.50464347]\n",
      " [17058.23802179]\n",
      " [13771.3045085 ]]\n"
     ]
    }
   ],
   "source": [
    "#Predict the output (Yhat)\n",
    "#Yhat=lm.predict(X)\n",
    "print('The first 4 predicted values are:', Yhat[0:4] )"
   ]
  },
  {
   "cell_type": "code",
   "execution_count": 148,
   "id": "d326a90f",
   "metadata": {
    "scrolled": true
   },
   "outputs": [
    {
     "name": "stdout",
     "output_type": "stream",
     "text": [
      "The MSE of price vs. the predicted value is: 31635042.944639895\n"
     ]
    }
   ],
   "source": [
    "from sklearn.metrics import mean_squared_error\n",
    "\n",
    "mse=mean_squared_error(df['price'], Yhat)\n",
    "print('The MSE of price vs. the predicted value is:', mse)"
   ]
  },
  {
   "cell_type": "markdown",
   "id": "4321d49e",
   "metadata": {},
   "source": [
    "<h2><b> Model 2: Multiple Linear Regression </h2></b>"
   ]
  },
  {
   "cell_type": "code",
   "execution_count": 149,
   "id": "258d80e6",
   "metadata": {},
   "outputs": [
    {
     "name": "stdout",
     "output_type": "stream",
     "text": [
      "R-squared is: 0.8094390422815301\n"
     ]
    }
   ],
   "source": [
    "lm.fit(Z, df['price'])\n",
    "print('R-squared is:', lm.score(Z, df['price']))\n"
   ]
  },
  {
   "cell_type": "markdown",
   "id": "00753900",
   "metadata": {},
   "source": [
    "This means that 80.94% of variation of price is explained by horsepower, curb-weight, engine-size and highway-mpg in this multiple linear regression model"
   ]
  },
  {
   "cell_type": "code",
   "execution_count": 146,
   "id": "714cd6a8",
   "metadata": {
    "scrolled": true
   },
   "outputs": [
    {
     "name": "stdout",
     "output_type": "stream",
     "text": [
      "The MSE of price vs. the predicted value is: 11975165.993303549\n"
     ]
    }
   ],
   "source": [
    "#Calculate MSE\n",
    "#Yhat2 is lm.predict(Z)\n",
    "print('The MSE of price vs. the predicted value is:', mean_squared_error(df['price'], Yhat2))"
   ]
  },
  {
   "cell_type": "markdown",
   "id": "f95cc3ae",
   "metadata": {},
   "source": [
    "<h2><b> Model 3: Polynomial Regression </h2></b>"
   ]
  },
  {
   "cell_type": "code",
   "execution_count": 151,
   "id": "0b6bdb7c",
   "metadata": {
    "scrolled": true
   },
   "outputs": [
    {
     "name": "stdout",
     "output_type": "stream",
     "text": [
      "The R-squared value is: 0.674194666390652\n"
     ]
    }
   ],
   "source": [
    "from sklearn.metrics import r2_score\n",
    "\n",
    "#Find the R-squared value\n",
    "r_sq_poly=r2_score(df['price'], p(df['highway-mpg']))\n",
    "print('The R-squared value is:', r_sq_poly)"
   ]
  },
  {
   "cell_type": "markdown",
   "id": "e26de0c1",
   "metadata": {},
   "source": [
    "This means that 67.42% of the variation of price is explained by this polynomial fit."
   ]
  },
  {
   "cell_type": "code",
   "execution_count": 152,
   "id": "f1f77912",
   "metadata": {},
   "outputs": [
    {
     "name": "stdout",
     "output_type": "stream",
     "text": [
      "The MSE of price vs. the predicted value is: 20474146.426361218\n"
     ]
    }
   ],
   "source": [
    "#Calculate the MSE\n",
    "mse_poly=mean_squared_error(df['price'], p(df['highway-mpg']))\n",
    "print('The MSE of price vs. the predicted value is:',mse_poly)"
   ]
  },
  {
   "cell_type": "markdown",
   "id": "067d3493",
   "metadata": {},
   "source": [
    "Overall, the Multiple Linear Regression Model was the best model out of the three explored.\n",
    "<p> For good fit, you want a model with a <b> high </b> R-squared value and a <b> low </b> MSE value </p>"
   ]
  },
  {
   "cell_type": "markdown",
   "id": "fbe5c225",
   "metadata": {},
   "source": [
    "## **Resources**\n",
    "\n",
    "https://medium.com/@HalderNilimesh/understanding-residual-plots-in-linear-regression-models-a-comprehensive-guide-with-examples-2fb5a60daf26#:~:text=A%20residual%20plot%20is%20a%20graphical%20representation%20of,predicted%20values%20obtained%20from%20the%20linear%20regression%20model.\n",
    "\n",
    "https://statsmethods.wordpress.com/2013/05/10/residual-plot/#:~:text=A%20residual%20plot%20is%20a%20graph%20used%20to,are%20equal%2C%20which%20is%20a%20condition%20for%20regression.\n",
    "\n",
    "https://www.kaggle.com/code/fazilbtopal/model-development-and-evaluation-with-python\n",
    "\n",
    "https://www.geeksforgeeks.org/kde-plot-visualization-with-pandas-and-seaborn/\n",
    "\n",
    "https://www.geeksforgeeks.org/matplotlib-figure-figure-gca-in-python/\n",
    "\n"
   ]
  },
  {
   "cell_type": "markdown",
   "id": "1507d369",
   "metadata": {},
   "source": [
    "This Jupyter Notebook was created to take notes for a lab assignment from the IBM Data Science Certificate through Coursera. The module is credited to:Joseph Santarcangelo, Mahdi Noorian, Bahare Talayian, Eric Xiao, Steven Dong, Parizad and Hima Vasudevan."
   ]
  }
 ],
 "metadata": {
  "kernelspec": {
   "display_name": "Python 3 (ipykernel)",
   "language": "python",
   "name": "python3"
  },
  "language_info": {
   "codemirror_mode": {
    "name": "ipython",
    "version": 3
   },
   "file_extension": ".py",
   "mimetype": "text/x-python",
   "name": "python",
   "nbconvert_exporter": "python",
   "pygments_lexer": "ipython3",
   "version": "3.9.13"
  }
 },
 "nbformat": 4,
 "nbformat_minor": 5
}
